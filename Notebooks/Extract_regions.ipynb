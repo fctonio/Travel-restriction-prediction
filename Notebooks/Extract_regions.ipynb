{
 "cells": [
  {
   "cell_type": "code",
   "execution_count": 16,
   "metadata": {},
   "outputs": [],
   "source": [
    "import pandas as pd"
   ]
  },
  {
   "cell_type": "code",
   "execution_count": 17,
   "metadata": {},
   "outputs": [],
   "source": [
    "url = \"https://en.wikipedia.org/wiki/Regions_of_England\""
   ]
  },
  {
   "cell_type": "code",
   "execution_count": 18,
   "metadata": {},
   "outputs": [],
   "source": [
    "df = pd.read_html(url)"
   ]
  },
  {
   "cell_type": "code",
   "execution_count": 19,
   "metadata": {},
   "outputs": [
    {
     "data": {
      "text/plain": [
       "[    0                                                  1\n",
       " 0 NaN  This article needs to be updated. Please updat...,\n",
       "               Region                                           Region.1\n",
       " 0                NaN                                                NaN\n",
       " 1           Category      Statistical regions Administrative region (1)\n",
       " 2           Location                                            England\n",
       " 3            Created                                               1994\n",
       " 4             Number                                                  9\n",
       " 5  Additional status                 NUTS 1 regionEuropean constituency\n",
       " 6        Populations                                2,669,941–9,180,135\n",
       " 7              Areas                                   1,572–23,836 km²\n",
       " 8         Government  Local authority leaders' board (6)Elected asse...\n",
       " 9       Subdivisions  Non-metropolitan county (25)Metropolitan count...,\n",
       "                                                                   England\n",
       "   The Crown Monarch: Elizabeth II Heir Apparent: Charles, Prince of Wales\n",
       " 0  Governance Queen-in-Council: Elizabeth II Prim...                     \n",
       " 1  Legislative Queen-in-Parliament: Elizabeth II ...                     \n",
       " 2  ElectionsUK General Elections in England  *180...                     \n",
       " 3  Judiciary Queen-on-the-Bench: Elizabeth II Sup...                     \n",
       " 4  Regions East of England London East Midlands W...                     \n",
       " 5  Administration History Subdivisions Historic C...                     \n",
       " 6                     England portal Other countries                     ,\n",
       "     0                                                  1\n",
       " 0 NaN  This section needs additional citations for ve...,\n",
       "                    Name[29]  Population [30] % change from previous year [30]  \\\n",
       " 0                South East          9180135                           +0.51%   \n",
       " 1                    London          8961989                           +0.61%   \n",
       " 2                North West          7341196                           +0.67%   \n",
       " 3           East of England          6236072                           +0.56%   \n",
       " 4             West Midlands          5934037                           +0.56%   \n",
       " 5                South West          5624696                           +0.45%   \n",
       " 6  Yorkshire and the Humber          5502967                           +0.43%   \n",
       " 7             East Midlands          4835928                           +0.66%   \n",
       " 8                North East          2669941                           +0.45%   \n",
       " 9                   England         56286961                           +0.55%   \n",
       " \n",
       "                    Area [30]   Populationdensity [30]  \\\n",
       " 0    19,072 km2(7,364 sq mi)     481/km2(1,250/sq mi)   \n",
       " 1       1,572 km2(607 sq mi)  5,701/km2(14,770/sq mi)   \n",
       " 2    14,108 km2(5,447 sq mi)     520/km2(1,300/sq mi)   \n",
       " 3    19,116 km2(7,381 sq mi)       326/km2(840/sq mi)   \n",
       " 4    12,998 km2(5,019 sq mi)     457/km2(1,180/sq mi)   \n",
       " 5    23,836 km2(9,203 sq mi)       236/km2(610/sq mi)   \n",
       " 6    15,405 km2(5,948 sq mi)       357/km2(920/sq mi)   \n",
       " 7    15,625 km2(6,033 sq mi)       309/km2(800/sq mi)   \n",
       " 8     8,579 km2(3,312 sq mi)       311/km2(810/sq mi)   \n",
       " 9  130,311 km2(50,313 sq mi)     432/km2(1,120/sq mi)   \n",
       " \n",
       "    Median gross annualearnings (£) 2019[31]  \\\n",
       " 0                                     32120   \n",
       " 1                                     38992   \n",
       " 2                                     28137   \n",
       " 3                                     30345   \n",
       " 4                                     28536   \n",
       " 5                                     28654   \n",
       " 6                                     27835   \n",
       " 7                                     28000   \n",
       " 8                                     27187   \n",
       " 9                                     30667   \n",
       " \n",
       "   % of population claiming Income Support or JSA (August 2012)  \\\n",
       " 0                                               3.0%             \n",
       " 1                                               5.3%             \n",
       " 2                                               5.3%             \n",
       " 3                                               3.5%             \n",
       " 4                                               5.1%             \n",
       " 5                                               3.3%             \n",
       " 6                                               5.2%             \n",
       " 7                                               4.2%             \n",
       " 8                                               6.1%             \n",
       " 9                                              4.45%             \n",
       " \n",
       "   % as at August 2001   Largest urban area  \n",
       " 0                5.4%      South Hampshire  \n",
       " 1               10.1%               London  \n",
       " 2               10.4%           Manchester  \n",
       " 3                6.2%              Norwich  \n",
       " 4                9.2%           Birmingham  \n",
       " 5                6.8%              Bristol  \n",
       " 6                9.3%                Leeds  \n",
       " 7                7.7%           Nottingham  \n",
       " 8               11.6%  Newcastle upon Tyne  \n",
       " 9           8.32%[32]               London  ,\n",
       "                                vteRegions of England  \\\n",
       " 0  East of England East Midlands London North Eas...   \n",
       " \n",
       "                              vteRegions of England.1  \n",
       " 0  East of England East Midlands London North Eas...  ,\n",
       "   vteAdministrative geography of the United Kingdom  \\\n",
       " 0                   United Kingdom local government   \n",
       " 1                          England local government   \n",
       " 2                 Northern Ireland local government   \n",
       " 3                         Scotland local government   \n",
       " 4                            Wales local government   \n",
       " \n",
       "   vteAdministrative geography of the United Kingdom.1  \n",
       " 0  History Subdivisions: Shrievalties Lieutenancy...   \n",
       " 1  History Subdivisions: Regions Ceremonial count...   \n",
       " 2           History Subdivisions: Counties Districts   \n",
       " 3  History Subdivisions: Sheriffdoms Lieutenancy ...   \n",
       " 4  History Subdivisions: Preserved counties Princ...   ,\n",
       "   vte Subdivisions of England  \\\n",
       " 0                      Region   \n",
       " 1           Ceremonial County   \n",
       " 2       Administrative County   \n",
       " 3                    District   \n",
       " 4           Unitary Authority   \n",
       " 5                 Sui-Generis   \n",
       " 6                Civil Parish   \n",
       " \n",
       "                        vte Subdivisions of England.1  \n",
       " 0      Regions NUTS 1 statistical regions of England  \n",
       " 1                                  Ceremonial County  \n",
       " 2  Metropolitan County Non-Metropolitan County Gr...  \n",
       " 3  Metropolitan Borough Non-Metropolitan District...  \n",
       " 4                                  Unitary Authority  \n",
       " 5                     City of London Isles of Scilly  \n",
       " 6                                       Civil parish  ]"
      ]
     },
     "execution_count": 19,
     "metadata": {},
     "output_type": "execute_result"
    }
   ],
   "source": [
    "df"
   ]
  },
  {
   "cell_type": "code",
   "execution_count": 20,
   "metadata": {},
   "outputs": [
    {
     "data": {
      "text/html": [
       "<div>\n",
       "<style scoped>\n",
       "    .dataframe tbody tr th:only-of-type {\n",
       "        vertical-align: middle;\n",
       "    }\n",
       "\n",
       "    .dataframe tbody tr th {\n",
       "        vertical-align: top;\n",
       "    }\n",
       "\n",
       "    .dataframe thead th {\n",
       "        text-align: right;\n",
       "    }\n",
       "</style>\n",
       "<table border=\"1\" class=\"dataframe\">\n",
       "  <thead>\n",
       "    <tr style=\"text-align: right;\">\n",
       "      <th></th>\n",
       "      <th>Name[29]</th>\n",
       "      <th>Population [30]</th>\n",
       "      <th>% change from previous year [30]</th>\n",
       "      <th>Area [30]</th>\n",
       "      <th>Populationdensity [30]</th>\n",
       "      <th>Median gross annualearnings (£) 2019[31]</th>\n",
       "      <th>% of population claiming Income Support or JSA (August 2012)</th>\n",
       "      <th>% as at August 2001</th>\n",
       "      <th>Largest urban area</th>\n",
       "    </tr>\n",
       "  </thead>\n",
       "  <tbody>\n",
       "    <tr>\n",
       "      <th>0</th>\n",
       "      <td>South East</td>\n",
       "      <td>9180135</td>\n",
       "      <td>+0.51%</td>\n",
       "      <td>19,072 km2(7,364 sq mi)</td>\n",
       "      <td>481/km2(1,250/sq mi)</td>\n",
       "      <td>32120</td>\n",
       "      <td>3.0%</td>\n",
       "      <td>5.4%</td>\n",
       "      <td>South Hampshire</td>\n",
       "    </tr>\n",
       "    <tr>\n",
       "      <th>1</th>\n",
       "      <td>London</td>\n",
       "      <td>8961989</td>\n",
       "      <td>+0.61%</td>\n",
       "      <td>1,572 km2(607 sq mi)</td>\n",
       "      <td>5,701/km2(14,770/sq mi)</td>\n",
       "      <td>38992</td>\n",
       "      <td>5.3%</td>\n",
       "      <td>10.1%</td>\n",
       "      <td>London</td>\n",
       "    </tr>\n",
       "    <tr>\n",
       "      <th>2</th>\n",
       "      <td>North West</td>\n",
       "      <td>7341196</td>\n",
       "      <td>+0.67%</td>\n",
       "      <td>14,108 km2(5,447 sq mi)</td>\n",
       "      <td>520/km2(1,300/sq mi)</td>\n",
       "      <td>28137</td>\n",
       "      <td>5.3%</td>\n",
       "      <td>10.4%</td>\n",
       "      <td>Manchester</td>\n",
       "    </tr>\n",
       "    <tr>\n",
       "      <th>3</th>\n",
       "      <td>East of England</td>\n",
       "      <td>6236072</td>\n",
       "      <td>+0.56%</td>\n",
       "      <td>19,116 km2(7,381 sq mi)</td>\n",
       "      <td>326/km2(840/sq mi)</td>\n",
       "      <td>30345</td>\n",
       "      <td>3.5%</td>\n",
       "      <td>6.2%</td>\n",
       "      <td>Norwich</td>\n",
       "    </tr>\n",
       "    <tr>\n",
       "      <th>4</th>\n",
       "      <td>West Midlands</td>\n",
       "      <td>5934037</td>\n",
       "      <td>+0.56%</td>\n",
       "      <td>12,998 km2(5,019 sq mi)</td>\n",
       "      <td>457/km2(1,180/sq mi)</td>\n",
       "      <td>28536</td>\n",
       "      <td>5.1%</td>\n",
       "      <td>9.2%</td>\n",
       "      <td>Birmingham</td>\n",
       "    </tr>\n",
       "    <tr>\n",
       "      <th>5</th>\n",
       "      <td>South West</td>\n",
       "      <td>5624696</td>\n",
       "      <td>+0.45%</td>\n",
       "      <td>23,836 km2(9,203 sq mi)</td>\n",
       "      <td>236/km2(610/sq mi)</td>\n",
       "      <td>28654</td>\n",
       "      <td>3.3%</td>\n",
       "      <td>6.8%</td>\n",
       "      <td>Bristol</td>\n",
       "    </tr>\n",
       "    <tr>\n",
       "      <th>6</th>\n",
       "      <td>Yorkshire and the Humber</td>\n",
       "      <td>5502967</td>\n",
       "      <td>+0.43%</td>\n",
       "      <td>15,405 km2(5,948 sq mi)</td>\n",
       "      <td>357/km2(920/sq mi)</td>\n",
       "      <td>27835</td>\n",
       "      <td>5.2%</td>\n",
       "      <td>9.3%</td>\n",
       "      <td>Leeds</td>\n",
       "    </tr>\n",
       "    <tr>\n",
       "      <th>7</th>\n",
       "      <td>East Midlands</td>\n",
       "      <td>4835928</td>\n",
       "      <td>+0.66%</td>\n",
       "      <td>15,625 km2(6,033 sq mi)</td>\n",
       "      <td>309/km2(800/sq mi)</td>\n",
       "      <td>28000</td>\n",
       "      <td>4.2%</td>\n",
       "      <td>7.7%</td>\n",
       "      <td>Nottingham</td>\n",
       "    </tr>\n",
       "    <tr>\n",
       "      <th>8</th>\n",
       "      <td>North East</td>\n",
       "      <td>2669941</td>\n",
       "      <td>+0.45%</td>\n",
       "      <td>8,579 km2(3,312 sq mi)</td>\n",
       "      <td>311/km2(810/sq mi)</td>\n",
       "      <td>27187</td>\n",
       "      <td>6.1%</td>\n",
       "      <td>11.6%</td>\n",
       "      <td>Newcastle upon Tyne</td>\n",
       "    </tr>\n",
       "    <tr>\n",
       "      <th>9</th>\n",
       "      <td>England</td>\n",
       "      <td>56286961</td>\n",
       "      <td>+0.55%</td>\n",
       "      <td>130,311 km2(50,313 sq mi)</td>\n",
       "      <td>432/km2(1,120/sq mi)</td>\n",
       "      <td>30667</td>\n",
       "      <td>4.45%</td>\n",
       "      <td>8.32%[32]</td>\n",
       "      <td>London</td>\n",
       "    </tr>\n",
       "  </tbody>\n",
       "</table>\n",
       "</div>"
      ],
      "text/plain": [
       "                   Name[29]  Population [30] % change from previous year [30]  \\\n",
       "0                South East          9180135                           +0.51%   \n",
       "1                    London          8961989                           +0.61%   \n",
       "2                North West          7341196                           +0.67%   \n",
       "3           East of England          6236072                           +0.56%   \n",
       "4             West Midlands          5934037                           +0.56%   \n",
       "5                South West          5624696                           +0.45%   \n",
       "6  Yorkshire and the Humber          5502967                           +0.43%   \n",
       "7             East Midlands          4835928                           +0.66%   \n",
       "8                North East          2669941                           +0.45%   \n",
       "9                   England         56286961                           +0.55%   \n",
       "\n",
       "                   Area [30]   Populationdensity [30]  \\\n",
       "0    19,072 km2(7,364 sq mi)     481/km2(1,250/sq mi)   \n",
       "1       1,572 km2(607 sq mi)  5,701/km2(14,770/sq mi)   \n",
       "2    14,108 km2(5,447 sq mi)     520/km2(1,300/sq mi)   \n",
       "3    19,116 km2(7,381 sq mi)       326/km2(840/sq mi)   \n",
       "4    12,998 km2(5,019 sq mi)     457/km2(1,180/sq mi)   \n",
       "5    23,836 km2(9,203 sq mi)       236/km2(610/sq mi)   \n",
       "6    15,405 km2(5,948 sq mi)       357/km2(920/sq mi)   \n",
       "7    15,625 km2(6,033 sq mi)       309/km2(800/sq mi)   \n",
       "8     8,579 km2(3,312 sq mi)       311/km2(810/sq mi)   \n",
       "9  130,311 km2(50,313 sq mi)     432/km2(1,120/sq mi)   \n",
       "\n",
       "   Median gross annualearnings (£) 2019[31]  \\\n",
       "0                                     32120   \n",
       "1                                     38992   \n",
       "2                                     28137   \n",
       "3                                     30345   \n",
       "4                                     28536   \n",
       "5                                     28654   \n",
       "6                                     27835   \n",
       "7                                     28000   \n",
       "8                                     27187   \n",
       "9                                     30667   \n",
       "\n",
       "  % of population claiming Income Support or JSA (August 2012)  \\\n",
       "0                                               3.0%             \n",
       "1                                               5.3%             \n",
       "2                                               5.3%             \n",
       "3                                               3.5%             \n",
       "4                                               5.1%             \n",
       "5                                               3.3%             \n",
       "6                                               5.2%             \n",
       "7                                               4.2%             \n",
       "8                                               6.1%             \n",
       "9                                              4.45%             \n",
       "\n",
       "  % as at August 2001   Largest urban area  \n",
       "0                5.4%      South Hampshire  \n",
       "1               10.1%               London  \n",
       "2               10.4%           Manchester  \n",
       "3                6.2%              Norwich  \n",
       "4                9.2%           Birmingham  \n",
       "5                6.8%              Bristol  \n",
       "6                9.3%                Leeds  \n",
       "7                7.7%           Nottingham  \n",
       "8               11.6%  Newcastle upon Tyne  \n",
       "9           8.32%[32]               London  "
      ]
     },
     "execution_count": 20,
     "metadata": {},
     "output_type": "execute_result"
    }
   ],
   "source": [
    "dft = df[4]\n",
    "dft"
   ]
  },
  {
   "cell_type": "code",
   "execution_count": 21,
   "metadata": {},
   "outputs": [
    {
     "ename": "KeyError",
     "evalue": "'NUTS-3.1'",
     "output_type": "error",
     "traceback": [
      "\u001b[0;31m---------------------------------------------------------------------------\u001b[0m",
      "\u001b[0;31mKeyError\u001b[0m                                  Traceback (most recent call last)",
      "\u001b[0;32m~/opt/anaconda3/envs/matrix/lib/python3.8/site-packages/pandas/core/indexes/base.py\u001b[0m in \u001b[0;36mget_loc\u001b[0;34m(self, key, method, tolerance)\u001b[0m\n\u001b[1;32m   2888\u001b[0m             \u001b[0;32mtry\u001b[0m\u001b[0;34m:\u001b[0m\u001b[0;34m\u001b[0m\u001b[0;34m\u001b[0m\u001b[0m\n\u001b[0;32m-> 2889\u001b[0;31m                 \u001b[0;32mreturn\u001b[0m \u001b[0mself\u001b[0m\u001b[0;34m.\u001b[0m\u001b[0m_engine\u001b[0m\u001b[0;34m.\u001b[0m\u001b[0mget_loc\u001b[0m\u001b[0;34m(\u001b[0m\u001b[0mcasted_key\u001b[0m\u001b[0;34m)\u001b[0m\u001b[0;34m\u001b[0m\u001b[0;34m\u001b[0m\u001b[0m\n\u001b[0m\u001b[1;32m   2890\u001b[0m             \u001b[0;32mexcept\u001b[0m \u001b[0mKeyError\u001b[0m \u001b[0;32mas\u001b[0m \u001b[0merr\u001b[0m\u001b[0;34m:\u001b[0m\u001b[0;34m\u001b[0m\u001b[0;34m\u001b[0m\u001b[0m\n",
      "\u001b[0;32mpandas/_libs/index.pyx\u001b[0m in \u001b[0;36mpandas._libs.index.IndexEngine.get_loc\u001b[0;34m()\u001b[0m\n",
      "\u001b[0;32mpandas/_libs/index.pyx\u001b[0m in \u001b[0;36mpandas._libs.index.IndexEngine.get_loc\u001b[0;34m()\u001b[0m\n",
      "\u001b[0;32mpandas/_libs/hashtable_class_helper.pxi\u001b[0m in \u001b[0;36mpandas._libs.hashtable.PyObjectHashTable.get_item\u001b[0;34m()\u001b[0m\n",
      "\u001b[0;32mpandas/_libs/hashtable_class_helper.pxi\u001b[0m in \u001b[0;36mpandas._libs.hashtable.PyObjectHashTable.get_item\u001b[0;34m()\u001b[0m\n",
      "\u001b[0;31mKeyError\u001b[0m: 'NUTS-3.1'",
      "\nThe above exception was the direct cause of the following exception:\n",
      "\u001b[0;31mKeyError\u001b[0m                                  Traceback (most recent call last)",
      "\u001b[0;32m<ipython-input-21-1c1a031b9583>\u001b[0m in \u001b[0;36m<module>\u001b[0;34m\u001b[0m\n\u001b[0;32m----> 1\u001b[0;31m \u001b[0mdft\u001b[0m\u001b[0;34m[\u001b[0m\u001b[0;34m'Attr'\u001b[0m\u001b[0;34m]\u001b[0m \u001b[0;34m=\u001b[0m \u001b[0mdft\u001b[0m\u001b[0;34m[\u001b[0m\u001b[0;34m\"NUTS-3.1\"\u001b[0m\u001b[0;34m]\u001b[0m\u001b[0;34m.\u001b[0m\u001b[0mstr\u001b[0m\u001b[0;34m.\u001b[0m\u001b[0mextract\u001b[0m\u001b[0;34m(\u001b[0m\u001b[0;34mr\"\\((.*?)\\)\"\u001b[0m\u001b[0;34m,\u001b[0m \u001b[0mexpand\u001b[0m\u001b[0;34m=\u001b[0m\u001b[0;32mFalse\u001b[0m\u001b[0;34m)\u001b[0m \u001b[0;31m# Create new column and keep only what is in the parentheses\u001b[0m\u001b[0;34m\u001b[0m\u001b[0;34m\u001b[0m\u001b[0m\n\u001b[0m",
      "\u001b[0;32m~/opt/anaconda3/envs/matrix/lib/python3.8/site-packages/pandas/core/frame.py\u001b[0m in \u001b[0;36m__getitem__\u001b[0;34m(self, key)\u001b[0m\n\u001b[1;32m   2897\u001b[0m             \u001b[0;32mif\u001b[0m \u001b[0mself\u001b[0m\u001b[0;34m.\u001b[0m\u001b[0mcolumns\u001b[0m\u001b[0;34m.\u001b[0m\u001b[0mnlevels\u001b[0m \u001b[0;34m>\u001b[0m \u001b[0;36m1\u001b[0m\u001b[0;34m:\u001b[0m\u001b[0;34m\u001b[0m\u001b[0;34m\u001b[0m\u001b[0m\n\u001b[1;32m   2898\u001b[0m                 \u001b[0;32mreturn\u001b[0m \u001b[0mself\u001b[0m\u001b[0;34m.\u001b[0m\u001b[0m_getitem_multilevel\u001b[0m\u001b[0;34m(\u001b[0m\u001b[0mkey\u001b[0m\u001b[0;34m)\u001b[0m\u001b[0;34m\u001b[0m\u001b[0;34m\u001b[0m\u001b[0m\n\u001b[0;32m-> 2899\u001b[0;31m             \u001b[0mindexer\u001b[0m \u001b[0;34m=\u001b[0m \u001b[0mself\u001b[0m\u001b[0;34m.\u001b[0m\u001b[0mcolumns\u001b[0m\u001b[0;34m.\u001b[0m\u001b[0mget_loc\u001b[0m\u001b[0;34m(\u001b[0m\u001b[0mkey\u001b[0m\u001b[0;34m)\u001b[0m\u001b[0;34m\u001b[0m\u001b[0;34m\u001b[0m\u001b[0m\n\u001b[0m\u001b[1;32m   2900\u001b[0m             \u001b[0;32mif\u001b[0m \u001b[0mis_integer\u001b[0m\u001b[0;34m(\u001b[0m\u001b[0mindexer\u001b[0m\u001b[0;34m)\u001b[0m\u001b[0;34m:\u001b[0m\u001b[0;34m\u001b[0m\u001b[0;34m\u001b[0m\u001b[0m\n\u001b[1;32m   2901\u001b[0m                 \u001b[0mindexer\u001b[0m \u001b[0;34m=\u001b[0m \u001b[0;34m[\u001b[0m\u001b[0mindexer\u001b[0m\u001b[0;34m]\u001b[0m\u001b[0;34m\u001b[0m\u001b[0;34m\u001b[0m\u001b[0m\n",
      "\u001b[0;32m~/opt/anaconda3/envs/matrix/lib/python3.8/site-packages/pandas/core/indexes/base.py\u001b[0m in \u001b[0;36mget_loc\u001b[0;34m(self, key, method, tolerance)\u001b[0m\n\u001b[1;32m   2889\u001b[0m                 \u001b[0;32mreturn\u001b[0m \u001b[0mself\u001b[0m\u001b[0;34m.\u001b[0m\u001b[0m_engine\u001b[0m\u001b[0;34m.\u001b[0m\u001b[0mget_loc\u001b[0m\u001b[0;34m(\u001b[0m\u001b[0mcasted_key\u001b[0m\u001b[0;34m)\u001b[0m\u001b[0;34m\u001b[0m\u001b[0;34m\u001b[0m\u001b[0m\n\u001b[1;32m   2890\u001b[0m             \u001b[0;32mexcept\u001b[0m \u001b[0mKeyError\u001b[0m \u001b[0;32mas\u001b[0m \u001b[0merr\u001b[0m\u001b[0;34m:\u001b[0m\u001b[0;34m\u001b[0m\u001b[0;34m\u001b[0m\u001b[0m\n\u001b[0;32m-> 2891\u001b[0;31m                 \u001b[0;32mraise\u001b[0m \u001b[0mKeyError\u001b[0m\u001b[0;34m(\u001b[0m\u001b[0mkey\u001b[0m\u001b[0;34m)\u001b[0m \u001b[0;32mfrom\u001b[0m \u001b[0merr\u001b[0m\u001b[0;34m\u001b[0m\u001b[0;34m\u001b[0m\u001b[0m\n\u001b[0m\u001b[1;32m   2892\u001b[0m \u001b[0;34m\u001b[0m\u001b[0m\n\u001b[1;32m   2893\u001b[0m         \u001b[0;32mif\u001b[0m \u001b[0mtolerance\u001b[0m \u001b[0;32mis\u001b[0m \u001b[0;32mnot\u001b[0m \u001b[0;32mNone\u001b[0m\u001b[0;34m:\u001b[0m\u001b[0;34m\u001b[0m\u001b[0;34m\u001b[0m\u001b[0m\n",
      "\u001b[0;31mKeyError\u001b[0m: 'NUTS-3.1'"
     ]
    }
   ],
   "source": [
    "dft['Attr'] = dft[\"NUTS-3.1\"].str.extract(r\"\\((.*?)\\)\", expand=False) # Create new column and keep only what is in the parentheses"
   ]
  },
  {
   "cell_type": "code",
   "execution_count": null,
   "metadata": {},
   "outputs": [],
   "source": [
    "reg = list(dft[\"Name[29]\"])"
   ]
  },
  {
   "cell_type": "code",
   "execution_count": 22,
   "metadata": {},
   "outputs": [
    {
     "data": {
      "text/plain": [
       "['South East',\n",
       " 'London',\n",
       " 'North West',\n",
       " 'East of England',\n",
       " 'West Midlands',\n",
       " 'South West',\n",
       " 'Yorkshire and the Humber',\n",
       " 'East Midlands',\n",
       " 'North East']"
      ]
     },
     "execution_count": 22,
     "metadata": {},
     "output_type": "execute_result"
    }
   ],
   "source": [
    "reg"
   ]
  },
  {
   "cell_type": "code",
   "execution_count": 23,
   "metadata": {},
   "outputs": [],
   "source": [
    "#cleanedList = [x[x.find(\"(\")+1:x.find(\")\")] for x in reg if str(x) != 'nan'] #Keep only text in parentheses"
   ]
  },
  {
   "cell_type": "code",
   "execution_count": 24,
   "metadata": {},
   "outputs": [],
   "source": [
    "#cleanedList = [str(s).split(' ', 1)[1] for s in reg] # Delete the first word of each string"
   ]
  },
  {
   "cell_type": "code",
   "execution_count": 25,
   "metadata": {},
   "outputs": [],
   "source": [
    "#cleanedList = [x for x in reg if str(x) != 'nan'] # Delete all Null(nan) values"
   ]
  },
  {
   "cell_type": "code",
   "execution_count": 26,
   "metadata": {},
   "outputs": [],
   "source": [
    "cleanedList = [x.replace(\" Province\", \"\") for x in reg]"
   ]
  },
  {
   "cell_type": "code",
   "execution_count": 27,
   "metadata": {},
   "outputs": [
    {
     "data": {
      "text/plain": [
       "['South East',\n",
       " 'London',\n",
       " 'North West',\n",
       " 'East of England',\n",
       " 'West Midlands',\n",
       " 'South West',\n",
       " 'Yorkshire and the Humber',\n",
       " 'East Midlands',\n",
       " 'North East']"
      ]
     },
     "execution_count": 27,
     "metadata": {},
     "output_type": "execute_result"
    }
   ],
   "source": [
    "cleanedList"
   ]
  },
  {
   "cell_type": "code",
   "execution_count": 28,
   "metadata": {},
   "outputs": [],
   "source": [
    "del reg[-1]"
   ]
  },
  {
   "cell_type": "code",
   "execution_count": 29,
   "metadata": {},
   "outputs": [
    {
     "data": {
      "text/plain": [
       "['South East',\n",
       " 'London',\n",
       " 'North West',\n",
       " 'East of England',\n",
       " 'West Midlands',\n",
       " 'South West',\n",
       " 'Yorkshire and the Humber',\n",
       " 'East Midlands']"
      ]
     },
     "execution_count": 29,
     "metadata": {},
     "output_type": "execute_result"
    }
   ],
   "source": [
    "reg"
   ]
  },
  {
   "cell_type": "code",
   "execution_count": null,
   "metadata": {},
   "outputs": [],
   "source": []
  },
  {
   "cell_type": "code",
   "execution_count": 58,
   "metadata": {},
   "outputs": [
    {
     "data": {
      "text/plain": [
       "13"
      ]
     },
     "execution_count": 58,
     "metadata": {},
     "output_type": "execute_result"
    }
   ],
   "source": [
    "len(reg)"
   ]
  },
  {
   "cell_type": "code",
   "execution_count": 59,
   "metadata": {},
   "outputs": [],
   "source": [
    "del reg[5]"
   ]
  },
  {
   "cell_type": "code",
   "execution_count": 60,
   "metadata": {},
   "outputs": [
    {
     "data": {
      "text/plain": [
       "['Antwerpen',\n",
       " 'Ostflandern',\n",
       " 'Flämisch-Brabant',\n",
       " 'Limburg',\n",
       " 'Westflandern',\n",
       " 'Hennegau',\n",
       " 'Lüttich',\n",
       " 'Luxemburg',\n",
       " 'Namür',\n",
       " 'Waals-Brabant',\n",
       " 'Brussels Capital Region',\n",
       " 'Region Brüssel-Hauptstadt']"
      ]
     },
     "execution_count": 60,
     "metadata": {},
     "output_type": "execute_result"
    }
   ],
   "source": [
    "reg"
   ]
  },
  {
   "cell_type": "code",
   "execution_count": 61,
   "metadata": {},
   "outputs": [],
   "source": [
    "del reg[-2]"
   ]
  },
  {
   "cell_type": "code",
   "execution_count": 62,
   "metadata": {},
   "outputs": [
    {
     "data": {
      "text/plain": [
       "['Antwerpen',\n",
       " 'Ostflandern',\n",
       " 'Flämisch-Brabant',\n",
       " 'Limburg',\n",
       " 'Westflandern',\n",
       " 'Hennegau',\n",
       " 'Lüttich',\n",
       " 'Luxemburg',\n",
       " 'Namür',\n",
       " 'Waals-Brabant',\n",
       " 'Region Brüssel-Hauptstadt']"
      ]
     },
     "execution_count": 62,
     "metadata": {},
     "output_type": "execute_result"
    }
   ],
   "source": [
    "reg"
   ]
  },
  {
   "cell_type": "code",
   "execution_count": null,
   "metadata": {},
   "outputs": [],
   "source": []
  }
 ],
 "metadata": {
  "kernelspec": {
   "display_name": "Python 3",
   "language": "python",
   "name": "python3"
  },
  "language_info": {
   "codemirror_mode": {
    "name": "ipython",
    "version": 3
   },
   "file_extension": ".py",
   "mimetype": "text/x-python",
   "name": "python",
   "nbconvert_exporter": "python",
   "pygments_lexer": "ipython3",
   "version": "3.8.5"
  }
 },
 "nbformat": 4,
 "nbformat_minor": 4
}
